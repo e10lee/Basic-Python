{
  "nbformat": 4,
  "nbformat_minor": 0,
  "metadata": {
    "colab": {
      "name": "Basic Python.ipynb",
      "provenance": [],
      "collapsed_sections": []
    },
    "kernelspec": {
      "name": "python3",
      "display_name": "Python 3"
    }
  },
  "cells": [
    {
      "cell_type": "markdown",
      "metadata": {
        "id": "uacFrEaZfcfq"
      },
      "source": [
        "##### Q1. Write a program that prompts the user to enter a password then prints the length of the password.\n",
        "\n",
        "```\n",
        "Enter your password: hello\n",
        "Your password is 5 long.\n",
        "```\n",
        "\n",
        "\n"
      ]
    },
    {
      "cell_type": "code",
      "metadata": {
        "id": "avPyES14ftCt"
      },
      "source": [
        "# Type solution here\n",
        "flag1 = True\n",
        "\n",
        "while flag1:\n",
        "  password = input(\"Enter your password: \")\n",
        "  if password.lower() == \"hello\":\n",
        "      flag1 = False\n",
        "      print(\"Access granted!\")\n",
        "      print(\"Length:\", len(password))\n",
        "\n"
      ],
      "execution_count": null,
      "outputs": []
    },
    {
      "cell_type": "markdown",
      "metadata": {
        "id": "behD0j_Of2TW"
      },
      "source": [
        "##### Q2. Write a program that prompts the user to enter their full name then prints the number of characters in their name (do not count spaces).\n",
        "\n",
        "```\n",
        "What is your name? Amulya Katti\n",
        "Amulya Katti your name has 11 characters.\n",
        "```"
      ]
    },
    {
      "cell_type": "code",
      "metadata": {
        "id": "XSdIRjwlhSlu",
        "colab": {
          "base_uri": "https://localhost:8080/"
        },
        "outputId": "9e7420ce-1ea1-44ee-9b59-4fb08472fe82"
      },
      "source": [
        "# Type solution here\n",
        "\n",
        "count = 0\n",
        "name = input(\"What is your name? \")\n",
        "for i in name: \n",
        "  if i.isalpha() is True or i.isnumeric():\n",
        "    count += 1\n",
        "\n",
        "print(name + \", your name has \" + str(count) + \" characters.\")"
      ],
      "execution_count": null,
      "outputs": [
        {
          "output_type": "stream",
          "text": [
            "What is your name? Ethan Lee\n",
            "Ethan Lee, your name has 8 characters.\n"
          ],
          "name": "stdout"
        }
      ]
    },
    {
      "cell_type": "markdown",
      "metadata": {
        "id": "5KHOWF6FhVHV"
      },
      "source": [
        "##### Q3. Write a program that prompts the user to enter a month (as a number), then prints the name of the month and the number of days in that month. Ensure that the user inputs a valid month and handle any error cases.\n",
        "\n",
        "```\n",
        "Enter the month number: 9\n",
        "September has 30 days\n",
        "```"
      ]
    },
    {
      "cell_type": "code",
      "metadata": {
        "id": "KhS-SAEThyTG",
        "colab": {
          "base_uri": "https://localhost:8080/"
        },
        "outputId": "3aff5718-3255-4797-a5e7-7769adf359eb"
      },
      "source": [
        "# Type solution here\n",
        "flag1 = True\n",
        "\n",
        "\n",
        "while flag1:\n",
        "  month = input(\"Enter the month number: \")\n",
        "  length = len(month)\n",
        "  number = int(month)\n",
        "  if month.strip() and (length == 1 or length == 2) and month.isnumeric():\n",
        "    if number == 1:\n",
        "      print(\"January has 31 days\")\n",
        "      flag1 = False\n",
        "    elif number == 2:\n",
        "      print(\"February has 28 days\")\n",
        "      flag1 = False\n",
        "    elif number == 3:\n",
        "      print(\"March has 31 days\")\n",
        "      flag1 = False\n",
        "    elif number == 4:\n",
        "      print(\"April has 30 days\")\n",
        "      flag1 = False\n",
        "    elif number == 5:\n",
        "      print(\"May has 31 days\")\n",
        "      flag1 = False\n",
        "    elif number == 6:\n",
        "      print(\"June has 30 days\")\n",
        "      flag1 = False\n",
        "    elif number == 7:\n",
        "      print(\"July has 31 days\")\n",
        "      flag1 = False\n",
        "    elif number == 8:\n",
        "      print(\"August has 31 days\")\n",
        "      flag1 = False\n",
        "    elif number == 9:\n",
        "      print(\"September has 30 days\")\n",
        "      flag1 = False\n",
        "    elif number == 10:\n",
        "      print(\"October has 31 days\")\n",
        "      flag1 = False\n",
        "    elif number == 11:\n",
        "      print(\"November has 30 days\")\n",
        "      flag1 = False\n",
        "    elif number == 12:\n",
        "      print(\"December has 31 days\")\n",
        "      flag1 = False"
      ],
      "execution_count": null,
      "outputs": [
        {
          "output_type": "stream",
          "text": [
            "Enter the month number: 31\n",
            "Enter the month number: 12\n",
            "December has 31 days\n"
          ],
          "name": "stdout"
        }
      ]
    },
    {
      "cell_type": "markdown",
      "metadata": {
        "id": "O7lnAdGlh6Xa"
      },
      "source": [
        "##### Q4. Write a program that prompts the user to enter a loan amount, annual interest rate, and number of years  for a car loan. Then calculate and print the monthly payment amount.\n",
        "\n",
        "Note:\n",
        "```\n",
        "PMT= [PV*i*((1+i)^n)]/[((1+i)^n)-1]\n",
        "```\n",
        "PMT is the monthly payment\n",
        "\n",
        "PV is the loan amount\n",
        "\n",
        "i is the interest rate per month in decimal form (interest rate percentage divided by 12)\n",
        "\n",
        "n is the number of months (term of the loan in months)\n",
        "\n",
        "```\n",
        "Loan Amount: 30000.00\n",
        "Annual Interest Rate: 4.00\n",
        "Years: 5\n",
        "Your monthly payment is: $552.50\n",
        "```"
      ]
    },
    {
      "cell_type": "code",
      "metadata": {
        "id": "p4B5JH5GiTs9",
        "colab": {
          "base_uri": "https://localhost:8080/"
        },
        "outputId": "8a7308bc-4288-47fb-dd7f-4e9ef7d585a6"
      },
      "source": [
        "# Type solution here\n",
        "flag1 = True\n",
        "flag2 = True\n",
        "flag3 = True\n",
        "\n",
        "while flag1:\n",
        "  loan = input(\"Enter a loan amount: \")\n",
        "  if loan.isnumeric():\n",
        "    PV = int(loan)\n",
        "    flag1 = False\n",
        "while flag2:\n",
        "  interestrate = input(\"Enter an interest rate (12 = 12 percent): \")\n",
        "  if interestrate.isnumeric():\n",
        "    i = (int(interestrate)/100)/12\n",
        "    flag2 = False\n",
        "while flag3:\n",
        "  months = input(\"Enter the number of months: \")\n",
        "  if months.isnumeric():\n",
        "    n = int(months)\n",
        "    flag3 = False\n",
        "\n",
        "\n",
        "nom1 = PV\n",
        "nom2 = (i*(1+i)**n)\n",
        "nom = nom1 * nom2\n",
        "dom = (1+i)**n-1\n",
        "PMT = nom/dom\n",
        "print(\"Your monthly payment is\", PMT)\n",
        "\n",
        "\n"
      ],
      "execution_count": null,
      "outputs": [
        {
          "output_type": "stream",
          "text": [
            "Enter a loan amount: 30000\n",
            "Enter an interest rate (12 = 12 percent): 4\n",
            "Enter the number of months: 60\n",
            "Your monthly payment is 552.4956616579792\n"
          ],
          "name": "stdout"
        }
      ]
    },
    {
      "cell_type": "markdown",
      "metadata": {
        "id": "SjiolJKgiWV-"
      },
      "source": [
        "##### Q5. Write a program to that prompts the user to enter a string. Then check whether or not the string is a palindrome.\n",
        "\n",
        "```\n",
        "Enter a string: Madam\n",
        "Madam, is a palindrome!\n",
        "```"
      ]
    },
    {
      "cell_type": "code",
      "metadata": {
        "id": "F5_M934Ri0es",
        "colab": {
          "base_uri": "https://localhost:8080/"
        },
        "outputId": "1d3912f8-abea-4658-8361-988fb0aaf331"
      },
      "source": [
        "# Type solution here\n",
        "def isPalindrome(input):\n",
        "    return input == input[::-1]\n",
        "\n",
        "input = input(\"Enter a string: \")\n",
        "pal = isPalindrome(input)\n",
        "if pal is True:\n",
        "  print(input, \"is a palindrome!\")\n",
        "else:\n",
        "  print(input, \"is not a palindrome!\")"
      ],
      "execution_count": null,
      "outputs": [
        {
          "output_type": "stream",
          "text": [
            "Enter a string: dam\n",
            "dam is not a palindrome!\n"
          ],
          "name": "stdout"
        }
      ]
    },
    {
      "cell_type": "markdown",
      "metadata": {
        "id": "BLBD6n9vkJEu"
      },
      "source": [
        "##### Q6. Write a program to compute and print all possible combinations of change for \\$1. Denominations to be considered – quarter, dime, nickel, penny.\n",
        "\n",
        "Hint: Use nested loops (loops within loops for the various denominations of coins)\n",
        "\n",
        "```\n",
        "Change for $1:\n",
        "0 quarters, 0 dimes, 0 nickels, 100 pennies\n",
        "…\n",
        "4 quarters, 0 dimes, 0 nickels, 0 pennies\n",
        "```"
      ]
    },
    {
      "cell_type": "code",
      "metadata": {
        "id": "kAQsTjwDkZZ5"
      },
      "source": [
        "# Type solution here\n",
        "print(\"Change for $1\")\n",
        "dollar = 1\n",
        "pennies = int(dollar * 100)\n",
        "quarters = int(pennies/25)\n",
        "dimes = int(pennies/10)\n",
        "nickels = int(pennies/nickels)\n",
        "\n",
        "for q in range(quarters):\n",
        "  leftover_q = pennies - coin * 25\n",
        "  for d in range(int(leftover_q/10)):\n",
        "    leftover_d = leftover_q - coin * 10\n",
        "    for n in range(int(leftover_d/5)):\n",
        "      penny = leftover_d - n * 5\n",
        "      print(\"{} quaraters, {} dimes, {} nickels, {} pennies\".format(quarter, dime, nickel, penny)) \n",
        "\n"
      ],
      "execution_count": null,
      "outputs": []
    },
    {
      "cell_type": "markdown",
      "metadata": {
        "id": "rUPDjYiIkbgs"
      },
      "source": [
        "##### Q7. Ask the user to enter two positive integers between 1 and 100. Read those integers. Then output a multiplication table of the first number times the second number. \n",
        "\n",
        "Note: You have to ensure the entered numbers are between 1 and 100 only.\n",
        "\n",
        "```\n",
        "Please enter an integer: 5\n",
        "Please enter another integer: 20\n",
        "5 x 1 = 5\n",
        "5 x 2 = 10\n",
        "5 x 3 = 15\n",
        "…\n",
        "5 x 20 = 100\n",
        "```"
      ]
    },
    {
      "cell_type": "code",
      "metadata": {
        "id": "Qg0Orv1klHzA",
        "colab": {
          "base_uri": "https://localhost:8080/"
        },
        "outputId": "fc4e2432-601e-4a4f-a525-caca9c46aed8"
      },
      "source": [
        "# Type solution here\n",
        "flag1 = True\n",
        "flag2 = True\n",
        "\n",
        "while flag1:\n",
        "  integer1 = int(input(\"Please enter an integer: \"))\n",
        "  if integer1 > 0 and integer1 < 101:\n",
        "    flag1 = False\n",
        "while flag2:\n",
        "  integer2 = int(input(\"Please enter another integer: \"))\n",
        "  if integer2 > 0 and integer2 < 101:\n",
        "    flag2 = False\n",
        "\n",
        "for num in range(integer2 + 1):\n",
        "  product = integer1 * num\n",
        "  print(integer1, \"x\", num, \"=\", product)\n",
        "\n"
      ],
      "execution_count": null,
      "outputs": [
        {
          "output_type": "stream",
          "text": [
            "Please enter an integer: 5\n",
            "Please enter another integer: 100\n",
            "5 x 0 = 0\n",
            "5 x 1 = 5\n",
            "5 x 2 = 10\n",
            "5 x 3 = 15\n",
            "5 x 4 = 20\n",
            "5 x 5 = 25\n",
            "5 x 6 = 30\n",
            "5 x 7 = 35\n",
            "5 x 8 = 40\n",
            "5 x 9 = 45\n",
            "5 x 10 = 50\n",
            "5 x 11 = 55\n",
            "5 x 12 = 60\n",
            "5 x 13 = 65\n",
            "5 x 14 = 70\n",
            "5 x 15 = 75\n",
            "5 x 16 = 80\n",
            "5 x 17 = 85\n",
            "5 x 18 = 90\n",
            "5 x 19 = 95\n",
            "5 x 20 = 100\n",
            "5 x 21 = 105\n",
            "5 x 22 = 110\n",
            "5 x 23 = 115\n",
            "5 x 24 = 120\n",
            "5 x 25 = 125\n",
            "5 x 26 = 130\n",
            "5 x 27 = 135\n",
            "5 x 28 = 140\n",
            "5 x 29 = 145\n",
            "5 x 30 = 150\n",
            "5 x 31 = 155\n",
            "5 x 32 = 160\n",
            "5 x 33 = 165\n",
            "5 x 34 = 170\n",
            "5 x 35 = 175\n",
            "5 x 36 = 180\n",
            "5 x 37 = 185\n",
            "5 x 38 = 190\n",
            "5 x 39 = 195\n",
            "5 x 40 = 200\n",
            "5 x 41 = 205\n",
            "5 x 42 = 210\n",
            "5 x 43 = 215\n",
            "5 x 44 = 220\n",
            "5 x 45 = 225\n",
            "5 x 46 = 230\n",
            "5 x 47 = 235\n",
            "5 x 48 = 240\n",
            "5 x 49 = 245\n",
            "5 x 50 = 250\n",
            "5 x 51 = 255\n",
            "5 x 52 = 260\n",
            "5 x 53 = 265\n",
            "5 x 54 = 270\n",
            "5 x 55 = 275\n",
            "5 x 56 = 280\n",
            "5 x 57 = 285\n",
            "5 x 58 = 290\n",
            "5 x 59 = 295\n",
            "5 x 60 = 300\n",
            "5 x 61 = 305\n",
            "5 x 62 = 310\n",
            "5 x 63 = 315\n",
            "5 x 64 = 320\n",
            "5 x 65 = 325\n",
            "5 x 66 = 330\n",
            "5 x 67 = 335\n",
            "5 x 68 = 340\n",
            "5 x 69 = 345\n",
            "5 x 70 = 350\n",
            "5 x 71 = 355\n",
            "5 x 72 = 360\n",
            "5 x 73 = 365\n",
            "5 x 74 = 370\n",
            "5 x 75 = 375\n",
            "5 x 76 = 380\n",
            "5 x 77 = 385\n",
            "5 x 78 = 390\n",
            "5 x 79 = 395\n",
            "5 x 80 = 400\n",
            "5 x 81 = 405\n",
            "5 x 82 = 410\n",
            "5 x 83 = 415\n",
            "5 x 84 = 420\n",
            "5 x 85 = 425\n",
            "5 x 86 = 430\n",
            "5 x 87 = 435\n",
            "5 x 88 = 440\n",
            "5 x 89 = 445\n",
            "5 x 90 = 450\n",
            "5 x 91 = 455\n",
            "5 x 92 = 460\n",
            "5 x 93 = 465\n",
            "5 x 94 = 470\n",
            "5 x 95 = 475\n",
            "5 x 96 = 480\n",
            "5 x 97 = 485\n",
            "5 x 98 = 490\n",
            "5 x 99 = 495\n",
            "5 x 100 = 500\n"
          ],
          "name": "stdout"
        }
      ]
    },
    {
      "cell_type": "markdown",
      "metadata": {
        "id": "SbnbPUPTlLD9"
      },
      "source": [
        "##### Q8. Write a program to ask the user to enter a password. Then check to see if it is a valid password based on these requirements -\n",
        "\n",
        "Must be at least 8 characters long\n",
        "\n",
        "Must contain both uppercase and lowercase letters\n",
        "\n",
        "Must contain at least one number between 0-9\n",
        "\n",
        "Must contain a special character -!,@,#,$\n",
        "\n",
        "If the password is not valid, ask the user to re-enter. This should continue until the user enters a valid password. After a valid password is entered, print Access Granted!\n",
        "\n",
        "```\n",
        "Please enter a password. Follow these requirements - \n",
        "a. Must be at least 8 characters long\n",
        "b. Must contain both uppercase and lowercase letters\n",
        "c. Must contain at least one number between 0-9\n",
        "d. Must contain a special character -!,@,#,$\n",
        "Password: HelloWorld1\n",
        "Invalid password. Try again!\n",
        "Password: Hello@World1\n",
        "Access Granted!\n",
        "```\n"
      ]
    },
    {
      "cell_type": "code",
      "metadata": {
        "id": "OXmZ177Rl-RV",
        "colab": {
          "base_uri": "https://localhost:8080/"
        },
        "outputId": "7032245c-a619-48ae-f453-55f6300fac82"
      },
      "source": [
        "# Type solution here\n",
        "\n",
        "flag1 = True\n",
        "a = False\n",
        "b = False\n",
        "c = False\n",
        "d = False\n",
        "while flag1:\n",
        "  password = input(\"Please enter a password. Follow these requirements -\")\n",
        "  print(\"a. Must be at least 8 characters long\")\n",
        "  print(\"b. Must contain both uppercase and lowercase letters\")\n",
        "  print(\"c. Must contain at least one number between 0-9\")\n",
        "  print(\"d. Must contain a special character -!,@,#,$\")\n",
        "  if len(password) >= 8:\n",
        "    a = True\n",
        "  for char in password:\n",
        "    if char.isdigit() == False:\n",
        "      print(\"Please include a number\")\n",
        "\n"
      ],
      "execution_count": null,
      "outputs": [
        {
          "output_type": "stream",
          "text": [
            "Please enter a password. Follow these requirements -password\n",
            "a. Must be at least 8 characters long\n",
            "b. Must contain both uppercase and lowercase letters\n",
            "c. Must contain at least one number between 0-9\n",
            "d. Must contain a special character -!,@,#,$\n",
            "Please include a number\n",
            "Please include a number\n",
            "Please include a number\n",
            "Please include a number\n",
            "Please include a number\n",
            "Please include a number\n",
            "Please include a number\n",
            "Please include a number\n"
          ],
          "name": "stdout"
        }
      ]
    },
    {
      "cell_type": "markdown",
      "metadata": {
        "id": "-0sdutTDnTKA"
      },
      "source": [
        "##### Q9. Given the score sheet of participants in a competition, you are required to find the runner-up score. You are given scores in a list. Find the score of the runner-up.\n",
        "\n",
        "```\n",
        "list1 - [2, 3, 6, 6, 5]\n",
        "runner_up - 5\n",
        "\n",
        "list2 - [1, 7, 5, 3, 10, 4, 5, 5, 6, 11]\n",
        "runner_up - 10\n",
        "```"
      ]
    }
  ]
}